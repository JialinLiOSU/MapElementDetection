{
 "cells": [
  {
   "cell_type": "markdown",
   "metadata": {},
   "source": [
    "### The goal is to identify US states "
   ]
  },
  {
   "cell_type": "code",
   "execution_count": 123,
   "metadata": {},
   "outputs": [],
   "source": [
    "from skimage.segmentation import slic\n",
    "from skimage.segmentation import mark_boundaries\n",
    "from skimage.util import img_as_float\n",
    "from skimage import io\n",
    "\n",
    "from numpy import array, array_equal, allclose\n",
    "import numpy as np\n",
    "import cv2\n",
    "from matplotlib import pyplot as plt\n",
    "import pickle\n",
    "import numpy as np\n",
    "import pickle\n",
    "import sys\n",
    "sys.path.append(r'C:\\Users\\jiali\\Desktop\\Map_Identification_Classification\\world map generation\\getCartoCoordExtent')\n",
    "from shapex import *\n",
    "from geom.point import *\n",
    "from geom.centroid import *"
   ]
  },
  {
   "cell_type": "code",
   "execution_count": 2,
   "metadata": {},
   "outputs": [],
   "source": [
    "def edgeDetector(img):\n",
    "    # img = cv2.imread(testImagePath + '\\\\'+imgName)\n",
    "    font = cv2.FONT_HERSHEY_COMPLEX\n",
    "    # legendPath = 'C:\\\\Users\\\\jiali\\\\Desktop\\\\MapElementDetection\\\\code\\\\Legend Analysis\\\\enhanced legend images'\n",
    "    height = img.shape[0]\n",
    "    width = img.shape[1]\n",
    "    enlargeRatio = 1\n",
    "    dim = (width*enlargeRatio, height*enlargeRatio)\n",
    "    img = cv2.resize(img, dim, interpolation = cv2.INTER_AREA)\n",
    "    gray = cv2.cvtColor(img, cv2.COLOR_BGR2GRAY)\n",
    "    blurred = cv2.GaussianBlur(gray,(3,3),0)\n",
    "    edge = cv2.Canny(gray, 50,200)\n",
    "    # laplacian = cv2.Laplacian(gray,cv2.CV_8UC1)\n",
    "    # Taking a matrix of size 5 as the kernel \n",
    "    kernel = np.ones((3,3), np.uint8) \n",
    "\n",
    "    n= 2\n",
    "    for i in range(n):\n",
    "        edge = cv2.dilate(edge, kernel, iterations=1) \n",
    "        edge = cv2.erode(edge, kernel, iterations=1) \n",
    "    \n",
    "    cv2.imshow(\"shapes\", edge)\n",
    "    cv2.waitKey(0)\n",
    "    cv2.destroyAllWindows()\n",
    "    return edge"
   ]
  },
  {
   "cell_type": "code",
   "execution_count": 3,
   "metadata": {},
   "outputs": [],
   "source": [
    "def removeText(img, ocrResults):\n",
    "    for ocr in ocrResults:\n",
    "        bbox = ocr[0]\n",
    "        xMin = int(bbox[0][0])\n",
    "        yMin = int(bbox[0][1])\n",
    "        xMax = int(bbox[2][0])\n",
    "        yMax = int(bbox[2][1])\n",
    "        value = img[yMax][xMax]\n",
    "\n",
    "        for x in range(xMin,xMax):\n",
    "            for y in range(yMin,yMax):\n",
    "                img[y][x] = value\n",
    "    # cv2.imshow(\"shapes\", img)\n",
    "    # cv2.waitKey(0)\n",
    "    # cv2.destroyAllWindows()\n",
    "    return img"
   ]
  },
  {
   "cell_type": "code",
   "execution_count": 4,
   "metadata": {},
   "outputs": [],
   "source": [
    "def arreq_in_list(myarr, list_arrays):\n",
    "    return next((True for elem in list_arrays if array_equal(elem, myarr)), False)\n",
    "\n",
    "def edgeDetector(img):\n",
    "    # img = cv2.imread(testImagePath + '\\\\'+imgName)\n",
    "    font = cv2.FONT_HERSHEY_COMPLEX\n",
    "    # legendPath = 'C:\\\\Users\\\\jiali\\\\Desktop\\\\MapElementDetection\\\\code\\\\Legend Analysis\\\\enhanced legend images'\n",
    "    height = img.shape[0]\n",
    "    width = img.shape[1]\n",
    "    enlargeRatio = 1\n",
    "    dim = (width*enlargeRatio, height*enlargeRatio)\n",
    "    img = cv2.resize(img, dim, interpolation = cv2.INTER_AREA)\n",
    "    gray = cv2.cvtColor(img, cv2.COLOR_BGR2GRAY)\n",
    "    blurred = cv2.GaussianBlur(gray,(3,3),0)\n",
    "    edge = cv2.Canny(gray, 50,200)\n",
    "    # laplacian = cv2.Laplacian(gray,cv2.CV_8UC1)\n",
    "    # Taking a matrix of size 5 as the kernel \n",
    "    kernel = np.ones((3,3), np.uint8) \n",
    "\n",
    "    n= 2\n",
    "    for i in range(n):\n",
    "        edge = cv2.dilate(edge, kernel, iterations=1) \n",
    "        edge = cv2.erode(edge, kernel, iterations=1) \n",
    "\n",
    "    # contours, _ = cv2.findContours(\n",
    "    #     edge, cv2.RETR_TREE, cv2.CHAIN_APPROX_SIMPLE)\n",
    "\n",
    "    # rectList = []  # used to save the rectangles\n",
    "    # rectIndList = []  # save the min max XY value for extraction\n",
    "\n",
    "    # for cnt in contours:\n",
    "    #     approx = cv2.approxPolyDP(cnt, 0.1 * cv2.arcLength(cnt, True), True)\n",
    "    #     cv2.drawContours(img, [approx], 0, (120, 120, 120), 1)\n",
    "    #     x = approx.ravel()[0]\n",
    "    #     y = approx.ravel()[1]\n",
    "\n",
    "    #     if len(approx) >=3:\n",
    "\n",
    "    #         test1 = approx[0][0][1]\n",
    "    #         test2 = approx[2][0][1]\n",
    "    #         if abs(test1 - test2) > 10:\n",
    "    #             cv2.putText(img, \"Rectangle\", (x, y), font, 0.5, (0))\n",
    "    #             if x >263 *3 and x < 270 * 3:\n",
    "    #                 print(len(rectList))\n",
    "    #             rectList.append(approx)\n",
    "    # rectShapeBoxList = rectListToShapeBoxList(rectList)\n",
    "\n",
    "    # # find out all rects intersecting with legendBbox and not intersecting with texts\n",
    "    # legendRectShapeBoxList = []\n",
    "    # for rectBox in rectShapeBoxList:\n",
    "    #     isInterText = intersectText(rectBox,legendTextShapeBoxList)\n",
    "    #     isInterLegend = legendShapeBox.intersects(rectBox)\n",
    "    #     if isInterLegend and not isInterText:\n",
    "    #         legendRectShapeBoxList.append(rectBox)\n",
    "\n",
    "    # legendRectShapeBoxList = removeOverlappedBox(legendRectShapeBoxList) # postprocess to remove overlapped rect boxes\n",
    "    \n",
    "    # cv2.imshow(\"shapes\", edge)\n",
    "    # cv2.waitKey(0)\n",
    "    # cv2.destroyAllWindows()\n",
    "    return edge"
   ]
  },
  {
   "cell_type": "code",
   "execution_count": 5,
   "metadata": {},
   "outputs": [],
   "source": [
    "def getBackgroundColor(img1,imgGrey):\n",
    "    # pick up background color\n",
    "    (height, width, channel) = img1.shape\n",
    "    heightList = range(10, height - 10, int((height - 20)/10))\n",
    "    widthList = range(10, width - 10, int((width - 20)/10))\n",
    "    samplePoints1 = [[10, w] for w in widthList]\n",
    "    samplePoints2 = [[height - 10, w] for w in widthList]\n",
    "    samplePoints3 = [[h, 10] for h in heightList]\n",
    "    samplePoints4 = [[h, width - 10] for h in heightList]\n",
    "    samplePoints = samplePoints1 + samplePoints2 + samplePoints3 + samplePoints4\n",
    "\n",
    "    colorValues = []\n",
    "    colorCounts = []\n",
    "    for sp in samplePoints:\n",
    "        colorValue = imgGrey[sp[0],sp[1]]\n",
    "        if arreq_in_list(colorValue, colorValues) == False:\n",
    "            colorValues.append(colorValue)\n",
    "            colorCounts.append(1)\n",
    "        else:\n",
    "            index = colorValues.index(colorValue)\n",
    "            colorCounts[index] += 1\n",
    "    indexColorMost = colorCounts.index(max(colorCounts))\n",
    "    bgColorValue = colorValues[indexColorMost]\n",
    "    return bgColorValue"
   ]
  },
  {
   "cell_type": "code",
   "execution_count": 6,
   "metadata": {},
   "outputs": [],
   "source": [
    "def getStateExtent(shp, country):\n",
    "    for c in shp:\n",
    "        x = c['properties']\n",
    "        if c['properties']['NAME'] == country:\n",
    "            break\n",
    "    typeGeom = c['geometry']['type']\n",
    "    coordGeom = c['geometry']['coordinates']\n",
    "    minLat,maxLat, minLon, maxLon= 999999999, -999999999, 999999999, -999999999\n",
    "    # if typeGeom != 'MultiPolygon':\n",
    "    #     coordGeom = [coordGeom]\n",
    "    \n",
    "    for poly in coordGeom:\n",
    "        if typeGeom != 'MultiPolygon':\n",
    "            poly = [poly]\n",
    "        tmpMinLon, tmpMaxLon = min(poly[0])[0], max(poly[0])[0]\n",
    "        tmpMinLat, tmpMaxLat = min(poly[0], key = lambda t: t[1])[1], max(poly[0],key = lambda t: t[1])[1]\n",
    "        if tmpMinLon < minLon:\n",
    "            minLon = tmpMinLon\n",
    "        if tmpMaxLon > maxLon:\n",
    "            maxLon = tmpMaxLon\n",
    "        if tmpMinLat < minLat:\n",
    "            minLat = tmpMinLat\n",
    "        if tmpMaxLat > maxLat:\n",
    "            maxLat = tmpMaxLat\n",
    "\n",
    "    return (minLon + maxLon)/2, (minLat + maxLat)/2"
   ]
  },
  {
   "cell_type": "code",
   "execution_count": 197,
   "metadata": {},
   "outputs": [],
   "source": [
    "# get the point list of a state from the shapefile\n",
    "def getPointList(shp, country):\n",
    "    for c in shp:\n",
    "        x = c['properties']\n",
    "        if c['properties']['NAME'] == country:\n",
    "            print('test')\n",
    "            break\n",
    "    typeGeom = c['geometry']['type']\n",
    "    coordGeom = c['geometry']['coordinates']\n",
    "\n",
    "    if typeGeom != 'MultiPolygon':\n",
    "#         print(coordGeom[0]) \n",
    "        coordList = coordGeom[0]\n",
    "    else:\n",
    "        lenList = [len(poly[0]) for poly in coordGeom]\n",
    "#         print(lenList)\n",
    "        index = lenList.index(max(lenList))\n",
    "#         print(index)\n",
    "#         print(coordGeom[index]) \n",
    "        coordList = coordGeom[index][0]\n",
    "    return [ Point(p[0], p[1]) for p in coordList ]"
   ]
  },
  {
   "cell_type": "code",
   "execution_count": 10,
   "metadata": {},
   "outputs": [],
   "source": [
    "# read detection results from pickle file\n",
    "detectResultName = r'C:\\Users\\jiali\\Desktop\\MapElementDetection\\code\\postProcessingDetection\\detectResultsOrigin.pickle'\n",
    "with open(detectResultName, 'rb') as fDetectResults:\n",
    "    detectResults = pickle.load(fDetectResults)\n",
    "\n",
    "# read ocr results from pickle file\n",
    "ocrResultName = r'C:\\Users\\jiali\\Desktop\\MapElementDetection\\code\\postProcessingDetection\\ocrBoundsListOrigin.pickle'\n",
    "with open(ocrResultName, 'rb') as fOCRResults:\n",
    "    ocrResults = pickle.load(fOCRResults)\n",
    "\n",
    "path = r'C:\\Users\\jiali\\Desktop\\MapElementDetection\\dataCollection\\USStateChoro\\originalSize'\n",
    "img1Name = 'ch-07-firstmap-06-1.png'\n",
    "\n",
    "imgDetectResult = []\n",
    "for dr in detectResults:\n",
    "    if dr[0] == img1Name:\n",
    "        imgDetectResult = dr"
   ]
  },
  {
   "cell_type": "code",
   "execution_count": 11,
   "metadata": {},
   "outputs": [],
   "source": [
    "# read images and remove texts on the images\n",
    "img1 = cv2.imread(path + '\\\\' + img1Name) # Image1 to be matched\n",
    "# imgGrey = cv2.imread(path + '\\\\' + img1Name, 0) \n",
    "ocrImg1 = [ocr[1:] for ocr in ocrResults if ocr[0]==img1Name][0]\n",
    "img1Proc = removeText(img1,ocrImg1)\n",
    "imgGrey = cv2.cvtColor(img1Proc, cv2.COLOR_BGR2GRAY)\n",
    "# get edge detection image\n",
    "edge1 = edgeDetector(img1Proc)"
   ]
  },
  {
   "cell_type": "code",
   "execution_count": 32,
   "metadata": {},
   "outputs": [
    {
     "data": {
      "text/plain": [
       "(960, 1152, 3)"
      ]
     },
     "execution_count": 32,
     "metadata": {},
     "output_type": "execute_result"
    }
   ],
   "source": [
    "img1Proc.shape"
   ]
  },
  {
   "cell_type": "code",
   "execution_count": 58,
   "metadata": {},
   "outputs": [
    {
     "data": {
      "image/png": "[encoded data removed]",
      "text/plain": [
       "<Figure size 432x288 with 1 Axes>"
      ]
     },
     "metadata": {
      "needs_background": "light"
     },
     "output_type": "display_data"
    }
   ],
   "source": [
    "# loop over the number of segments\n",
    "# apply SLIC and extract (approximately) the supplied number\n",
    "# of segments\n",
    "image = img_as_float(img1Proc)\n",
    "numSegments = 300\n",
    "# get segments from the segmentation results\n",
    "segments = slic(image, n_segments = numSegments, sigma = 5)\n",
    "# edgeSegments = edgeDetectorGrey(segments)\n",
    "# show the output of SLIC\n",
    "fig = plt.figure(\"Superpixels -- %d segments\" % (numSegments))\n",
    "ax = fig.add_subplot(1, 1, 1)\n",
    "bounds = mark_boundaries(image, segments)\n",
    "ax.imshow(bounds)\n",
    "plt.axis(\"off\")\n",
    "# show the plots\n",
    "plt.show()\n",
    "\n",
    "bgColor = getBackgroundColor(img1Proc, imgGrey)"
   ]
  },
  {
   "cell_type": "code",
   "execution_count": 15,
   "metadata": {},
   "outputs": [],
   "source": [
    "# get the list of pairs of coords of pixels with a specific superpixel segmentid\n",
    "# index of the list means superpixel segmentid\n",
    "maxSegmentationID = np.amax(segments)\n",
    "minSegmentationID = np.amin(segments)\n",
    "\n",
    "coordPairsList = [] \n",
    "for id in range(minSegmentationID,maxSegmentationID + 1):\n",
    "    results = np.where(segments == id)\n",
    "    coordPairs = np.asarray(results).T.tolist()\n",
    "    # results = zip(*np.where(segments == id))\n",
    "    # coord = zip(results)\n",
    "    coordPairsList.append(coordPairs)"
   ]
  },
  {
   "cell_type": "code",
   "execution_count": 16,
   "metadata": {},
   "outputs": [
    {
     "name": "stderr",
     "output_type": "stream",
     "text": [
      "C:\\Users\\jiali\\anaconda3\\lib\\site-packages\\ipykernel_launcher.py:10: RuntimeWarning: overflow encountered in ubyte_scalars\n",
      "  # Remove the CWD from sys.path while we load stuff.\n"
     ]
    }
   ],
   "source": [
    "# identify whether the superpixel is with bg color\n",
    "mapRegionSuperPixels = []\n",
    "for coordPairs in coordPairsList:\n",
    "    colorValueList = []\n",
    "    for coordPair in coordPairs:\n",
    "        colorValue = imgGrey[coordPair[0],coordPair[1]]\n",
    "        colorValueList.append(colorValue)\n",
    "        \n",
    "    maxOccurValue = max(colorValueList,key=colorValueList.count)\n",
    "    if abs(maxOccurValue - bgColor) > 10:\n",
    "        mapRegionSuperPixels.append(coordPairs)"
   ]
  },
  {
   "cell_type": "code",
   "execution_count": 87,
   "metadata": {},
   "outputs": [],
   "source": [
    "# find super-pixels on the corners of US continent\n",
    "maxXcoordList = []\n",
    "maxXcoordPairList = []\n",
    "maxYcoordList = []\n",
    "maxYcoordPairList = []\n",
    "minXcoordList = []\n",
    "minXcoordPairList = []\n",
    "minYcoordList = []\n",
    "minYcoordPairList = []\n",
    "for mapSuperPixel in mapRegionSuperPixels:\n",
    "    maxXcoord = 0\n",
    "    maxYcoord = 0\n",
    "    minXcoord = 999999\n",
    "    minYcoord = 999999\n",
    "    for pairCoord in mapSuperPixel:\n",
    "        if pairCoord[1] > maxXcoord:\n",
    "            maxXcoord = pairCoord[1]\n",
    "            maxXcoordPairList.append(pairCoord)\n",
    "        if pairCoord[0] > maxYcoord and pairCoord[1] > image.shape[1]/4:\n",
    "            maxYcoord = pairCoord[0]\n",
    "            maxYcoordPairList.append(pairCoord)\n",
    "        if pairCoord[1] < minXcoord and pairCoord[1] > 150:\n",
    "            minXcoord = pairCoord[1]\n",
    "            minXcoordPairList.append(pairCoord)\n",
    "        if pairCoord[0] < minYcoord:\n",
    "            minYcoord = pairCoord[0]\n",
    "            minYcoordPairList.append(pairCoord)\n",
    "    maxXcoordList.append(maxXcoord)\n",
    "    maxYcoordList.append(maxYcoord)\n",
    "    minXcoordList.append(minXcoord)\n",
    "    minYcoordList.append(minYcoord)"
   ]
  },
  {
   "cell_type": "code",
   "execution_count": 88,
   "metadata": {},
   "outputs": [],
   "source": [
    "maxXCoord = max(maxXcoordList)\n",
    "indexRightSuperPixel = maxXcoordList.index(maxXCoord)\n",
    "maxXCoordPair = maxXcoordPairList[indexRightSuperPixel]\n",
    "\n",
    "maxYCoord = max(maxYcoordList)\n",
    "indexBottomSuperPixel = maxYcoordList.index(maxYCoord)\n",
    "maxYCoordPair = maxYcoordPairList[indexBottomSuperPixel]\n",
    "\n",
    "minXCoord = min(minXcoordList)\n",
    "indexLeftSuperPixel = minXcoordList.index(minXCoord)\n",
    "minXCoordPair = minXcoordPairList[indexLeftSuperPixel]\n",
    "\n",
    "minYCoord = min(minYcoordList)\n",
    "indexTopSuperPixel = minYcoordList.index(minYCoord)\n",
    "minYCoordPair = minYcoordPairList[indexTopSuperPixel]\n",
    "\n",
    "deltaImgX =  maxXCoord - minXCoord\n",
    "deltaImgY =  maxYCoord - minYCoord"
   ]
  },
  {
   "cell_type": "code",
   "execution_count": 89,
   "metadata": {},
   "outputs": [],
   "source": [
    "MaineSuperPixel = mapRegionSuperPixels[indexRightSuperPixel]\n",
    "WashingtonSuperPixel = mapRegionSuperPixels[indexTopSuperPixel]\n",
    "TexasSuperPixel = mapRegionSuperPixels[indexBottomSuperPixel]\n",
    "\n",
    "for coordPair in MaineSuperPixel+WashingtonSuperPixel+TexasSuperPixel:\n",
    "    imgGrey[coordPair[0],coordPair[1]] = 0"
   ]
  },
  {
   "cell_type": "code",
   "execution_count": 90,
   "metadata": {},
   "outputs": [
    {
     "data": {
      "image/png": "[encoded data removed]",
      "text/plain": [
       "<Figure size 432x288 with 1 Axes>"
      ]
     },
     "metadata": {
      "needs_background": "light"
     },
     "output_type": "display_data"
    }
   ],
   "source": [
    "fig = plt.figure()\n",
    "ax = fig.add_subplot(1, 1, 1)\n",
    "ax.imshow(imgGrey)\n",
    "plt.show()"
   ]
  },
  {
   "cell_type": "code",
   "execution_count": 165,
   "metadata": {},
   "outputs": [],
   "source": [
    "# get the real corner geographic coordinates\n",
    "shapefilePath = r'C:\\Users\\jiali\\Desktop\\MapElementDetection\\code\\shpFiles\\USA_Contiguous_Albers_Equal_Area_Conic'\n",
    "\n",
    "fileName = 'USA_Contiguous_Albers_Equal_Area_Conic.shp'\n",
    "shp = shapex(shapefilePath + '\\\\' + fileName)\n",
    "x1, y1, x2, y2 = shp.bounds\n",
    "deltaGeoX = x2 - x1\n",
    "deltaGeoY = y2 - y1"
   ]
  },
  {
   "cell_type": "code",
   "execution_count": 166,
   "metadata": {},
   "outputs": [
    {
     "data": {
      "text/plain": [
       "(-2356113.742900001,\n",
       " -1338125.3953999998,\n",
       " 2258154.4408999984,\n",
       " 1558935.3896000008)"
      ]
     },
     "execution_count": 166,
     "metadata": {},
     "output_type": "execute_result"
    }
   ],
   "source": [
    "x1, y1, x2, y2"
   ]
  },
  {
   "cell_type": "code",
   "execution_count": 185,
   "metadata": {},
   "outputs": [],
   "source": [
    "# get the geographic coordinate and image coordinate of a selected state\n"
   ]
  },
  {
   "cell_type": "code",
   "execution_count": 251,
   "metadata": {},
   "outputs": [
    {
     "name": "stdout",
     "output_type": "stream",
     "text": [
      "1107700.3293500002\n",
      "394283.80129999947\n"
     ]
    }
   ],
   "source": [
    "state = 'Ohio'\n",
    "xGeoState, yGeoState = getStateExtent(shp, state)\n",
    "print(xGeoState)\n",
    "print(yGeoState)"
   ]
  },
  {
   "cell_type": "code",
   "execution_count": 252,
   "metadata": {},
   "outputs": [],
   "source": [
    "pointList = getPointList(shp,state)\n",
    "centroidGeo = centroid(pointList)[1]"
   ]
  },
  {
   "cell_type": "code",
   "execution_count": 250,
   "metadata": {},
   "outputs": [
    {
     "name": "stdout",
     "output_type": "stream",
     "text": [
      "2000160.1562959917\n",
      "726366.8263828466\n"
     ]
    }
   ],
   "source": [
    "xCentroidGeo = centroidGeo.x\n",
    "print(xCentroidGeo)\n",
    "yCentroidGeo = centroidGeo.y\n",
    "print(yCentroidGeo)"
   ]
  },
  {
   "cell_type": "code",
   "execution_count": 244,
   "metadata": {},
   "outputs": [],
   "source": [
    "# xImgState = minXCoord + (xGeoState - x1) / deltaGeoX * deltaImgX\n",
    "# yImgState = minYCoord + (y2 - yGeoState ) / deltaGeoY * deltaImgY\n",
    "\n",
    "xImgState = minXCoord + (xCentroidGeo - x1) / deltaGeoX * deltaImgX\n",
    "yImgState = minYCoord + (y2 - yCentroidGeo ) / deltaGeoY * deltaImgY\n",
    "\n",
    "RGBState = img1Proc[int(yImgState), int(xImgState),:]"
   ]
  },
  {
   "cell_type": "code",
   "execution_count": 245,
   "metadata": {},
   "outputs": [
    {
     "data": {
      "text/plain": [
       "(-1446694.0165999997, -254904.58389999997)"
      ]
     },
     "execution_count": 245,
     "metadata": {},
     "output_type": "execute_result"
    }
   ],
   "source": [
    "xGeoState, yGeoState"
   ]
  },
  {
   "cell_type": "code",
   "execution_count": 246,
   "metadata": {},
   "outputs": [
    {
     "data": {
      "text/plain": [
       "(904.8357148347912, 407.65687756565893)"
      ]
     },
     "execution_count": 246,
     "metadata": {},
     "output_type": "execute_result"
    }
   ],
   "source": [
    "xImgState,yImgState"
   ]
  },
  {
   "cell_type": "code",
   "execution_count": 247,
   "metadata": {},
   "outputs": [
    {
     "data": {
      "image/png": "[encoded data removed]",
      "text/plain": [
       "<Figure size 432x288 with 1 Axes>"
      ]
     },
     "metadata": {
      "needs_background": "light"
     },
     "output_type": "display_data"
    }
   ],
   "source": [
    "fig = plt.figure()\n",
    "ax = plt.gca()\n",
    "ax.scatter(minXCoord, minYCoord, color='blue', marker='o', alpha=0.8)\n",
    "ax.scatter(maxXCoord, maxYCoord, color='blue', marker='o', alpha=0.8)\n",
    "ax.scatter(xImgState, yImgState, color='red', marker='o', alpha=0.8)\n",
    "ax.imshow(img1)\n",
    "plt.show()"
   ]
  },
  {
   "cell_type": "code",
   "execution_count": 237,
   "metadata": {},
   "outputs": [
    {
     "data": {
      "text/plain": [
       "array([149,  95,  44], dtype=uint8)"
      ]
     },
     "execution_count": 237,
     "metadata": {},
     "output_type": "execute_result"
    }
   ],
   "source": [
    "RGBState"
   ]
  },
  {
   "cell_type": "code",
   "execution_count": 105,
   "metadata": {},
   "outputs": [
    {
     "data": {
      "text/plain": [
       "array([215, 171, 128], dtype=uint8)"
      ]
     },
     "execution_count": 105,
     "metadata": {},
     "output_type": "execute_result"
    }
   ],
   "source": [
    "img1Proc[480, 500,:]"
   ]
  },
  {
   "cell_type": "code",
   "execution_count": null,
   "metadata": {},
   "outputs": [],
   "source": []
  }
 ],
 "metadata": {
  "kernelspec": {
   "display_name": "Python 3",
   "language": "python",
   "name": "python3"
  },
  "language_info": {
   "codemirror_mode": {
    "name": "ipython",
    "version": 3
   },
   "file_extension": ".py",
   "mimetype": "text/x-python",
   "name": "python",
   "nbconvert_exporter": "python",
   "pygments_lexer": "ipython3",
   "version": "3.7.6"
  }
 },
 "nbformat": 4,
 "nbformat_minor": 4
}
